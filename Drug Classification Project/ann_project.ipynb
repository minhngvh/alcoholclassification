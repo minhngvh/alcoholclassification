{
 "cells": [
  {
   "cell_type": "code",
   "execution_count": 150,
   "metadata": {},
   "outputs": [],
   "source": [
    "import torch\n",
    "import torch.nn as nn\n",
    "import pandas as pd\n",
    "import numpy as np\n",
    "from torch.utils.data import Dataset, DataLoader\n",
    "from torchvision import datasets, transforms\n",
    "import matplotlib.pyplot as plt \n",
    "\n"
   ]
  },
  {
   "cell_type": "code",
   "execution_count": 151,
   "metadata": {},
   "outputs": [],
   "source": [
    "df_y = pd.read_csv('project_train_y.csv')\n",
    "df_X = pd.read_csv('project_train_x.csv')\n"
   ]
  },
  {
   "cell_type": "code",
   "execution_count": 160,
   "metadata": {},
   "outputs": [
    {
     "name": "stdout",
     "output_type": "stream",
     "text": [
      "Epoch [2/20], Loss: 0.4379\n",
      "Epoch [4/20], Loss: 0.4951\n",
      "Epoch [6/20], Loss: 0.5272\n",
      "Epoch [8/20], Loss: 0.5121\n",
      "Epoch [10/20], Loss: 0.4479\n",
      "Epoch [12/20], Loss: 0.2936\n",
      "Epoch [14/20], Loss: 0.4371\n",
      "Epoch [16/20], Loss: 0.3779\n",
      "Epoch [18/20], Loss: 0.7397\n",
      "Epoch [20/20], Loss: 0.6272\n",
      "Accuracy of the model on the test data: 78.73015873015873 %\n"
     ]
    }
   ],
   "source": [
    "# Define the model\n",
    "class Classifier(nn.Module):\n",
    "  def __init__(self, input_size, hidden_size, num_classes):\n",
    "    super(Classifier, self).__init__()\n",
    "    self.fc1 = nn.Linear(input_size, hidden_size)\n",
    "    self.relu = nn.ReLU()\n",
    "    self.fc2 = nn.Linear(hidden_size, num_classes)\n",
    "\n",
    "\n",
    "  \n",
    "  def forward(self, x):\n",
    "    out = self.fc1(x)\n",
    "    out = self.relu(out)\n",
    "    out = self.fc2(out)\n",
    "    return out\n",
    "\n",
    "\n",
    "\n",
    "#class Net(nn.Module):\n",
    "    #def __init__(self):\n",
    "    #    super(Net, self).__init__()\n",
    "   #     self.fc1 = nn.Linear(in_features=784, out_features=128)\n",
    "  #      self.fc2 = nn.Linear(in_features=128, out_features=64)\n",
    " #       self.fc3 = nn.Linear(in_features=64, out_features=7)\n",
    "#\n",
    "    #     x = torch.relu(self.fc1(x))\n",
    "  #      x = torch.relu(self.fc2(x))\n",
    " #       x = self.fc3(x)\n",
    "#        return x  \n",
    "\n",
    "\n",
    "\n",
    "# Initialize the model\n",
    "input_size = 12 # Size of input data (10 features in the dataset)\n",
    "hidden_size = 13 # Size of hidden layer\n",
    "hidden_size1 = 200\n",
    "num_classes = 7 # Number of classes (drug consumption or not)\n",
    "model = Classifier(input_size, hidden_size, num_classes)\n",
    "\n",
    "# Load the  data\n",
    "\n",
    "def read_dataset(feature_file,label_file):\n",
    "    df_X = pd.read_csv(feature_file)\n",
    "    df_y = pd.read_csv(label_file)\n",
    "    df_y.loc[df_y['Y1'] <= 3, 'Y1'] = 0\n",
    "    df_y.loc[df_y['Y1'] > 3, 'Y1'] = 1\n",
    "    X = df_X.values #convert values in dataframe to numpy 2-D array\n",
    "    y = df_y.values.reshape(-1)   #convert values in dataframe to numpy 1-D array\n",
    "    return X,y\n",
    "\n",
    "def normalize_features(X_train_norm, X_test_norm):\n",
    "    from sklearn.preprocessing import StandardScaler #import libaray\n",
    "    scaler = StandardScaler() # call an object function\n",
    "    scaler.fit(X_train) # calculate mean, std in X_train\n",
    "    X_train_norm = scaler.transform(X_train) # apply normalization on X_train\n",
    "    X_test_norm = scaler.transform(X_test) # we use the same normalization on X_test\n",
    "    return X_train_norm, X_test_norm\n",
    "\n",
    "\n",
    "X_train, y_train = read_dataset('fairness_x_train.csv', 'fairness_y_train.csv')\n",
    "X_test, y_test = read_dataset('project_test_x.csv', 'project_test_y.csv')\n",
    "X_train, X_test = normalize_features(X_train, X_test)\n",
    "\n",
    "\n",
    "train_data = torch.from_numpy(X_train).float()\n",
    "test_data = torch.from_numpy(X_test).float()\n",
    "\n",
    "trainset = torch.utils.data.TensorDataset(train_data, torch.from_numpy(y_train.ravel()))\n",
    "testset = torch.utils.data.TensorDataset(test_data, torch.from_numpy(y_test.ravel()))\n",
    "\n",
    "kwargs = {'num_workers': 2, 'pin_memory': True} \n",
    "train_loader = torch.utils.data.DataLoader(dataset=trainset, batch_size=64, shuffle=True, **kwargs)\n",
    "test_loader = torch.utils.data.DataLoader(dataset=testset, batch_size=64, shuffle=False, **kwargs)\n",
    "\n",
    "# Define the loss function and optimizer\n",
    "criterion = nn.CrossEntropyLoss()\n",
    "optimizer = torch.optim.Adam(model.parameters(), lr=0.02)\n",
    "\n",
    "# Train the model\n",
    "num_epochs = 20\n",
    "for epoch in range(num_epochs):\n",
    "  for inputs, labels in train_loader:\n",
    "    # Forward pass\n",
    "    outputs = model(inputs)\n",
    "    loss = criterion(outputs, labels)\n",
    "    \n",
    "    # Backward and optimize\n",
    "    optimizer.zero_grad()\n",
    "    loss.backward()\n",
    "    optimizer.step()\n",
    "  \n",
    "  if (epoch+1) % 2 == 0:\n",
    "    print(f'Epoch [{epoch+1}/{num_epochs}], Loss: {loss.item():.4f}')\n",
    " \n",
    "# Test the model\n",
    "with torch.no_grad():\n",
    "  correct = 0\n",
    "  total = 0\n",
    "  for inputs, labels in test_loader:\n",
    "    outputs = model(inputs)\n",
    "    _, predicted = torch.max(outputs.data, 1)\n",
    "    total += labels.size(0)\n",
    "    correct += (predicted == labels).sum().item()\n",
    "  print(f'Accuracy of the model on the test data: {100 * correct / total} %')\n"
   ]
  },
  {
   "cell_type": "code",
   "execution_count": 153,
   "metadata": {},
   "outputs": [
    {
     "data": {
      "image/png": "[encoded data removed]",
      "text/plain": [
       "<Figure size 432x288 with 1 Axes>"
      ]
     },
     "metadata": {
      "needs_background": "light"
     },
     "output_type": "display_data"
    }
   ],
   "source": [
    "epoch = [2,4,6,8,10,12,14,16,18,20]\n",
    "loss_train_b = [0.3953,0.5433,0.6275,0.4448,0.3929,0.3830,0.4498,0.5686,0.3903,0.4315]\n",
    "loss_train_m = [1.2602,1.5955,1.4342,1.4839,1.3629,1.2698,1.4377,1.3312,1.313,1.6454]\n",
    "plt.plot(epoch, loss_train_b, 'g', label='Training loss binary')\n",
    "plt.plot(epoch, loss_train_m, 'b', label='Training loss multi')\n",
    "plt.title('Training ANN')\n",
    "plt.xlabel('Epochs')\n",
    "plt.ylabel('Loss')\n",
    "plt.legend()\n",
    "plt.show()"
   ]
  },
  {
   "cell_type": "code",
   "execution_count": 161,
   "metadata": {},
   "outputs": [
    {
     "name": "stdout",
     "output_type": "stream",
     "text": [
      "Accuracy: 71.43\n"
     ]
    }
   ],
   "source": [
    "from sklearn import tree\n",
    "from sklearn.model_selection import train_test_split\n",
    "\n",
    "# Train the decision tree classifier\n",
    "clf = tree.DecisionTreeClassifier()\n",
    "clf = clf.fit(X_train, y_train)\n",
    "\n",
    "# Calculate the accuracy\n",
    "accuracy = clf.score(X_test, y_test)\n",
    "\n",
    "# Print the accuracy\n",
    "print('Accuracy: %.2f' % (accuracy * 100))\n"
   ]
  },
  {
   "cell_type": "code",
   "execution_count": 162,
   "metadata": {},
   "outputs": [
    {
     "name": "stdout",
     "output_type": "stream",
     "text": [
      "Accuracy: 0.819047619047619\n"
     ]
    }
   ],
   "source": [
    "#Import Random Forest Model\n",
    "from sklearn.ensemble import RandomForestClassifier\n",
    "SEED = 42\n",
    "clf1=RandomForestClassifier(n_estimators=100, \n",
    "                             max_depth=10,\n",
    "                             random_state=SEED)\n",
    "\n",
    "clf1.fit(X_train,y_train)\n",
    "\n",
    "y_pred=clf1.predict(X_test)\n",
    "from sklearn import metrics\n",
    "print(\"Accuracy:\",metrics.accuracy_score(y_test, y_pred))"
   ]
  },
  {
   "cell_type": "code",
   "execution_count": 156,
   "metadata": {},
   "outputs": [
    {
     "name": "stdout",
     "output_type": "stream",
     "text": [
      "              precision    recall  f1-score   support\n",
      "\n",
      "           0       0.40      0.04      0.07        54\n",
      "           1       0.83      0.99      0.90       261\n",
      "\n",
      "    accuracy                           0.83       315\n",
      "   macro avg       0.62      0.51      0.49       315\n",
      "weighted avg       0.76      0.83      0.76       315\n",
      "\n"
     ]
    }
   ],
   "source": [
    "from sklearn.neural_network import MLPClassifier\n",
    "from sklearn.metrics import confusion_matrix, classification_report\n",
    "\n",
    "\n",
    "mlpnn = MLPClassifier(solver='sgd', alpha=1e-5, random_state=1)\n",
    "\n",
    "mlpnn.fit(X_train, y_train)                         \n",
    "MLPClassifier(activation='relu', alpha=1e-05, batch_size='auto',\n",
    "       beta_1=0.9, beta_2=0.999, early_stopping=False,\n",
    "       epsilon=1e-08, hidden_layer_sizes=(100,), learning_rate='constant',\n",
    "       learning_rate_init=0.001, max_iter=200, momentum=0.9,\n",
    "       nesterovs_momentum=True, power_t=0.5, random_state=1, shuffle=True,\n",
    "       solver='sgd', tol=0.0001, validation_fraction=0.1, verbose=False,\n",
    "       warm_start=False)\n",
    "\n",
    "target_names = ['0','1',]\n",
    "\n",
    "\n",
    "clr = classification_report(y_test, y_pred, target_names=target_names)\n",
    "print(clr)\n"
   ]
  },
  {
   "cell_type": "code",
   "execution_count": 163,
   "metadata": {},
   "outputs": [
    {
     "name": "stdout",
     "output_type": "stream",
     "text": [
      "Accuracy: 0.8317460317460318\n"
     ]
    }
   ],
   "source": [
    "import matplotlib as plt\n",
    "from sklearn.linear_model import LogisticRegression\n",
    "clf2 = LogisticRegression(random_state=0).fit(X_train,y_train)\n",
    "y_pred=clf2.predict(X_test)\n",
    "print(\"Accuracy:\",metrics.accuracy_score(y_test, y_pred))"
   ]
  },
  {
   "cell_type": "code",
   "execution_count": null,
   "metadata": {},
   "outputs": [],
   "source": []
  }
 ],
 "metadata": {
  "kernelspec": {
   "display_name": "Python 3.9.12 ('base')",
   "language": "python",
   "name": "python3"
  },
  "language_info": {
   "codemirror_mode": {
    "name": "ipython",
    "version": 3
   },
   "file_extension": ".py",
   "mimetype": "text/x-python",
   "name": "python",
   "nbconvert_exporter": "python",
   "pygments_lexer": "ipython3",
   "version": "3.9.12"
  },
  "orig_nbformat": 4,
  "vscode": {
   "interpreter": {
    "hash": "593f5d18edcbe7c59cbe4697e27f309a00ae49962ba631098f8fdd62e6a48a93"
   }
  }
 },
 "nbformat": 4,
 "nbformat_minor": 2
}
